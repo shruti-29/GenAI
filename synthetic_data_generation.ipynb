{
  "cells": [
    {
      "cell_type": "code",
      "execution_count": 27,
      "metadata": {
        "id": "JE8waip5wFYp"
      },
      "outputs": [],
      "source": [
        "!pip install -q datasets\n",
        "!pip install -q huggingface_hub"
      ]
    },
    {
      "cell_type": "code",
      "execution_count": null,
      "metadata": {
        "id": "gb_ztDYLtdFB"
      },
      "outputs": [],
      "source": [
        "import os\n",
        "os.environ[\"HF_TOKEN\"] = \"hf_your_token_here\" # Replace with your actual Hugging Face token"
      ]
    },
    {
      "cell_type": "code",
      "execution_count": 28,
      "metadata": {
        "id": "GTi2S_0MtdFD"
      },
      "outputs": [],
      "source": [
        "# Load the dataset from HuggingFace\n",
        "from datasets import load_dataset\n",
        "import random\n",
        "\n",
        "\n",
        "# Download and load the dataset\n",
        "dataset = load_dataset(\"Helsinki-NLP/europarl\",'de-fr')\n",
        "dataset = dataset['train'].shuffle(random.randint(0, 100)).select(i for i in range(800))"
      ]
    },
    {
      "cell_type": "code",
      "execution_count": 26,
      "metadata": {
        "colab": {
          "base_uri": "https://localhost:8080/"
        },
        "id": "7AnOsQKYtdFD",
        "outputId": "9bbb75d8-6767-4130-bac2-b365f8e48e6c"
      },
      "outputs": [
        {
          "name": "stdout",
          "output_type": "stream",
          "text": [
            "Prompt:\n",
            "\n",
            "You are a highly skilled AI language translator specialized in German-to-French translation.\n",
            "Generate 10 unique translations from German to formal French using the below examples. Keep your translations relevant to the theme.\n",
            "Output only a JSON array with objects structured as:\n",
            "[\n",
            "  {\n",
            "    \"de\": \"Die Kommission hatte gehofft, dass die Aufnahme der Beitrittsverhandlungen dem Reformprozess sp\\u00fcrbarere Impulse verleihen w\\u00fcrde.\",\n",
            "    \"fr\": \"La Commission esp\\u00e9rait que l\\u2019ouverture des n\\u00e9gociations d\\u2019adh\\u00e9sion imprimerait un \\u00e9lan plus tangible au processus de r\\u00e9forme.\"\n",
            "  },\n",
            "  {\n",
            "    \"de\": \"Im M\\u00e4rz legte die Regierung ihr nationales Programm zur \\u00dcbernahme des Besitzstandes vor.\",\n",
            "    \"fr\": \"En mars, le gouvernement a pr\\u00e9sent\\u00e9 son programme national pour l'adoption de l'acquis.\"\n",
            "  },\n",
            "  {\n",
            "    \"de\": \"Die \\u00c4u\\u00dferungen von Herrn Deva \\u00fcber eine st\\u00e4rkere Einbindung und Mitverantwortung der gro\\u00dfen multinationalen Konzerne halte ich f\\u00fcr durchaus zutreffend, doch kann ich nicht umhin zu sagen, dass viele dieser Konzerne sehr zu w\\u00fcnschen \\u00fcbrig lassen und ihr Verhalten heute in die entgegengesetzte Richtung weist.\",\n",
            "    \"fr\": \"Les contributions de M. Deva concernant une plus grande participation et une plus grande coresponsabilit\\u00e9 des grandes multinationales me semblent tr\\u00e8s judicieuses. Toutefois, je ne peux cesser de dire que bon nombre d'entre elles laissent beaucoup \\u00e0 d\\u00e9sirer et que leur comportement va aujourd'hui dans le sens contraire.\"\n",
            "  },\n",
            "  {\n",
            "    \"de\": \"Dar\\u00fcber hinaus m\\u00f6chte ich betonen, dass es sich um eine Richtlinie handelt, die sich auf Sicherheit und Gesundheitsschutz bei der Arbeit bezieht.\",\n",
            "    \"fr\": \"Qui plus est, je voudrais souligner que cette directive porte sur la s\\u00e9curit\\u00e9 et la sant\\u00e9 sur le lieu de travail.\"\n",
            "  },\n",
            "  {\n",
            "    \"de\": \"Einerseits m\\u00fcssen wir die institutionellen Voraussetzungen f\\u00fcr die Erweiterung schaffen.\",\n",
            "    \"fr\": \"D'une part, il faudra poser les conditions institutionnelles pour l'\\u00e9largissement.\"\n",
            "  }\n",
            "]\n",
            "\n",
            "Model output:\n",
            "[\n",
            "  {\n",
            "    \"de\": \"Die Diskussionen über die Finanzierung der Gemeinschaftsprogramme führten zu guten Ergebnissen.\",\n",
            "    \"fr\": \"Les discussions sur la financiation des programmes communautaires ont abouti à des résultats satisfaisants.\"\n",
            "  },\n",
            "  {\n",
            "    \"de\": \"Es wurde beschlossen, die Arbeitsgruppenarbeiten im Mai zu intensivieren.\",\n",
            "    \"fr\": \"Il a été décidé d'intensifier le travail des groupes de travail en mai.\"\n",
            "  },\n",
            "  {\n",
            "    \"de\": \"Frau Smith wurde berufen, die Bemerkungen zu den statistischen Daten zu erläutern.\",\n",
            "    \"fr\": \"Madame Smith a été appelée à expliquer les observations relatives aux données statistiques.\"\n",
            "  },\n",
            "  {\n",
            "    \"de\": \"Wir unterstützen die Initiative zur Förderung der interkulturellen Dialoge zwischen Jugendlichen.\",\n",
            "    \"fr\": \"Nous soutenons l'initiative visant à promouvoir les dialogues interculturels entre les jeunes.\"\n",
            "  },\n",
            "  {\n",
            "    \"de\": \"Die Methode der nachverfolgung und Berichtigung von Verstößen wird kontinuierlich verbessert.\",\n",
            "    \"fr\": \"La méthode de suivi et de correction des violations est en constante amélioration.\"\n",
            "  },\n",
            "  {\n",
            "    \"de\": \"Es ist notwendig, die Effizienz der Kommission im Handhaben des Budgets zu erhöhen.\",\n",
            "    \"fr\": \"Il est nécessaire d'améliorer l'efficacité de la Commission dans la gestion du budget.\"\n",
            "  },\n",
            "  {\n",
            "    \"de\": \"Mitgliedstaaten werden aufgefordert, ihre Vertragsverpflichtungen in vollem Umfang einzuhalten.\",\n",
            "    \"fr\": \"On invite les États membres à respecter pleinement leurs engagements contractuels.\"\n",
            "  },\n",
            "  {\n",
            "    \"de\": \"Mr. Johnson betonte die Notwendigkeit einer umfassenderen Zusammenarbeit zwischen den Einrichtungen.\",\n",
            "    \"fr\": \"M. Johnson a souligné la nécessité d'une coopération plus approfondie entre les institutions.\"\n",
            "  },\n",
            "  {\n",
            "    \"de\": \"Die Berichte der wirtschaftlichen Experten werden als weniger konstruktiv becharacterisiert.\",\n",
            "    \"fr\": \"Les rapports des experts économiques sont qualifiés de moins constructifs.\"\n",
            "  },\n",
            "  {\n",
            "    \"de\": \"Die Wertung der Qualität der Wissenschaftlichen Arbeit ist unerlässlich für die zukünftige Förderung.\",\n",
            "    \"fr\": \"L'évaluation de la qualité de la recherche scientifique est indispensable pour une future promotion.\"\n",
            "  }\n",
            "]\n",
            "Translation pairs saved to french_translations.json\n"
          ]
        }
      ],
      "source": [
        "from huggingface_hub import InferenceClient\n",
        "import random, json\n",
        "\n",
        "client = InferenceClient(\n",
        "\tprovider=\"hf-inference\",\n",
        "\tapi_key=os.environ[\"HF_TOKEN\"],\n",
        ")\n",
        "\n",
        "how_many_new = 10\n",
        "pick_samples = 5\n",
        "picked = dataset.shuffle(random.randint(0, 100)).select(i for i in range(pick_samples))\n",
        "prompt = f\"\"\"\n",
        "You are a highly skilled AI language translator specialized in German-to-French translation.\n",
        "Generate {how_many_new} unique translations from German to formal French using the below examples. Keep your translations relevant to the theme.\n",
        "Output only a JSON array with objects structured as:\n",
        "{json.dumps(picked['translation'][:pick_samples], indent=2)}\n",
        "\"\"\"\n",
        "\n",
        "print(\"Prompt:\")\n",
        "print(prompt)\n",
        "\n",
        "messages = [\n",
        "    {\n",
        "        \"role\": \"user\",\n",
        "        \"content\": prompt\n",
        "    }\n",
        "]\n",
        "\n",
        "completion = client.chat.completions.create(\n",
        "    model=\"meta-llama/Llama-3.3-70B-Instruct\",\n",
        "    messages=messages,\n",
        "    max_tokens=15000,\n",
        ")\n",
        "\n",
        "output = completion.choices[0].message\n",
        "if isinstance(output, dict) and \"content\" in output:\n",
        "    output = output[\"content\"]\n",
        "\n",
        "# Print the model's output (for verification)\n",
        "print(\"Model output:\")\n",
        "print(output)\n",
        "\n",
        "# Attempt to parse the output as JSON\n",
        "try:\n",
        "    translations = json.loads(output)\n",
        "except json.JSONDecodeError as e:\n",
        "    print(\"Error decoding JSON:\", e)\n",
        "    exit(1)\n",
        "\n",
        "# Save the JSON array to a file\n",
        "with open(\"french_translations.json\", \"w\", encoding=\"utf-8\") as f:\n",
        "    json.dump(translations, f, ensure_ascii=False, indent=2)\n",
        "\n",
        "print(\"Translation pairs saved to french_translations.json\")"
      ]
    },
    {
      "cell_type": "code",
      "execution_count": null,
      "metadata": {
        "id": "rVS9sl3DtdFD",
        "outputId": "24bf62ad-c0a0-47dc-b467-193d0c4e80f4"
      },
      "outputs": [
        {
          "name": "stdout",
          "output_type": "stream",
          "text": [
            "Unique translation pairs saved to translations_pre-processed.json\n"
          ]
        }
      ],
      "source": [
        "import json\n",
        "\n",
        "def remove_duplicates(input_file, output_file, record_limit=1600):\n",
        "    # Load the JSON data from the file\n",
        "    with open(input_file, 'r', encoding='utf-8') as f:\n",
        "        translations = json.load(f)\n",
        "\n",
        "    # Use a set to track seen 'de' values and store unique items\n",
        "    seen_de = set()\n",
        "    unique_translations = []\n",
        "\n",
        "    for entry in translations:\n",
        "        de_text = entry.get(\"de\")\n",
        "        if de_text not in seen_de:\n",
        "            seen_de.add(de_text)\n",
        "            unique_translations.append(entry)\n",
        "\n",
        "    # Limit the output to the first record_limit records\n",
        "    unique_translations = unique_translations[:record_limit]\n",
        "\n",
        "    # Write the unique translations back to a new JSON file\n",
        "    with open(output_file, 'w', encoding='utf-8') as f:\n",
        "        json.dump(unique_translations, f, ensure_ascii=False, indent=2)\n",
        "\n",
        "    print(\"Unique translation pairs saved to\", output_file)\n",
        "\n",
        "# Example usage\n",
        "remove_duplicates(\"translation copy.json\", \"translations_pre-processed.json\")\n"
      ]
    }
  ],
  "metadata": {
    "colab": {
      "provenance": []
    },
    "kernelspec": {
      "display_name": "venv",
      "language": "python",
      "name": "python3"
    },
    "language_info": {
      "codemirror_mode": {
        "name": "ipython",
        "version": 3
      },
      "file_extension": ".py",
      "mimetype": "text/x-python",
      "name": "python",
      "nbconvert_exporter": "python",
      "pygments_lexer": "ipython3",
      "version": "3.11.11"
    }
  },
  "nbformat": 4,
  "nbformat_minor": 0
}
